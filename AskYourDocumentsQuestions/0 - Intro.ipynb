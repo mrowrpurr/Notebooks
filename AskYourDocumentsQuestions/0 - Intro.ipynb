{
 "cells": [
  {
   "cell_type": "markdown",
   "metadata": {},
   "source": [
    "# 📑 Ask Your Documents Questions ❔\n",
    "\n",
    "Using an LLM and Retrieval Augmented Generation (RAG)\n",
    "\n",
    "> _\"A simpler form of tool use is Retrieval Augmented Generation: augment an LLM with document retrieval, sometimes using a vector database. Given a query, a document retriever is called to retrieve the most relevant (usually measured by first encoding the query and the documents into vectors, then finding the documents with vectors closest in Euclidean norm to the query vector). The LLM then generates an output based on both the query and the retrieved documents.\"_\n",
    ">\n",
    "> https://en.wikipedia.org/wiki/Large_language_model"
   ]
  },
  {
   "cell_type": "markdown",
   "metadata": {},
   "source": [
    "## 🎓 Welcome to the _\"Ask Your Documents Questions\"_ tutorial notebook series\n",
    "\n",
    "This series of notebooks will guide you through the process of building a question answering system for your documents.\n",
    "\n",
    "The goal is to be able to ask questions about the content of your documents and get answers back.\n",
    "\n",
    "Getting quality results from a document query requires more than simply indexing and querying documents.\n",
    "\n",
    "What you will learn in this series:\n",
    "- < _fill this in one the series is complete_ >\n",
    "- < _fill this in one the series is complete_ >\n",
    "- < _fill this in one the series is complete_ >\n",
    "- < _fill this in one the series is complete_ >\n",
    "- < _fill this in one the series is complete_ >\n",
    "- < _fill this in one the series is complete_ >\n"
   ]
  },
  {
   "cell_type": "markdown",
   "metadata": {},
   "source": [
    "## ☝️ Prerequisites\n",
    "\n",
    "Before you start, here is what you'll need:\n",
    "\n",
    "- [Python](https://www.python.org/downloads/) _(this tutorial was written using Python 3.11)_\n",
    "- A way of viewing Jupyter notebooks _(e.g. [JupyterLab](https://jupyter.org/install.html) or [VS Code](https://code.visualstudio.com/docs/python/jupyter-support))_\n",
    "\n",
    "### 🤗 [Hugging Face](https://huggingface.co) and 🔥 [PyTorch](https://pytorch.org/)\n",
    "\n",
    "Some of the examples demonstrate using local models downloaded from [Hugging Face](https://huggingface.co).\n",
    "\n",
    "For embeddings (_sentence similarity models_), these use the [sentence-transformers](https://huggingface.co/docs/hub/sentence-transformers) library.\n",
    "\n",
    "A dependency of this is the [transformers](https://huggingface.co/docs/transformers/v4.15.0/installation) library, which requires one of: PyTorch, TensorFlow, or Flax.\n",
    "\n",
    "For the examples in this tutorial, we will be using PyTorch.\n",
    "\n",
    "> To use either TensorFlow or Flax, you will need to install the relevant dependencies and change the code accordingly.\n",
    "\n",
    "### 📦 Installing Dependencies\n",
    "\n",
    "If you are using [Poetry](https://python-poetry.org/), you can install all the dependencies by:\n",
    "\n",
    "1. Update the `install-pytorch` line in `pyproject.toml` to match your system.  \n",
    "   _(You can find the `pip install` line for your system at https://pytorch.org/)_\n",
    "2. Run `poetry install`\n",
    "3. Run `poetry run poe install-pytorch` to install PyTorch\n",
    "4. Run `poetry run poe install-pytorch-related-dependencies` to install `sentence-transformers`  \n",
    "   _(And verious other dependencies of these notebooks which rely on `torch` in some way)_\n",
    "\n",
    "If you are not using Poetry, you can install the dependencies by:\n",
    "\n",
    "`pip install -r requirements.txt`\n",
    "> ⚠️ If the frozen requirements.txt is out-of-date, use poetry to run `poetry run pip freeze > requirements.txt` to update it.\n",
    "\n",
    "\n",
    "### 🚢 Docker support\n",
    "\n",
    "_It would be great to get Docker support for running these notebooks._\n",
    "\n",
    "_Something to look into, but not currently supported._\n"
   ]
  },
  {
   "cell_type": "markdown",
   "metadata": {},
   "source": [
    "## One you are ready, head over to [Notebook #1](1%20-%20First%20you%20need%20some%20documents.ipynb) 👉\n"
   ]
  }
 ],
 "metadata": {
  "language_info": {
   "name": "python"
  },
  "orig_nbformat": 4
 },
 "nbformat": 4,
 "nbformat_minor": 2
}

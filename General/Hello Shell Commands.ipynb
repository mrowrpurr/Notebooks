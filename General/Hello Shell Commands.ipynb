{
 "cells": [
  {
   "cell_type": "markdown",
   "metadata": {},
   "source": [
    "# Hello Shell Commands\n",
    "\n",
    "How can you run shell commands from a notebook?\n",
    "\n",
    "Below you'll find 2 cells, both of which run `dir` (on Mac/Linux, replace `dir` with `ls`)\n",
    "\n",
    "The first uses a Jupyter syntax for invoking shell commands: `!{\"command goes here\"}`\n",
    "\n",
    "The second uses the Python `subprocess` module.\n",
    "\n",
    "The benefit of the second example is that it allows you to store the output of the command in a string."
   ]
  },
  {
   "cell_type": "code",
   "execution_count": 1,
   "metadata": {},
   "outputs": [
    {
     "name": "stdout",
     "output_type": "stream",
     "text": [
      " Volume in drive C has no label.\n",
      " Volume Serial Number is 2AC2-CC9F\n",
      "\n",
      " Directory of c:\\Code\\mrowrpurr\\Notebooks\n",
      "\n",
      "08/04/2023  12:37 PM    <DIR>          .\n",
      "08/04/2023  12:18 PM    <DIR>          ..\n",
      "08/04/2023  12:39 PM             1,456 Hello Shell Commands.ipynb\n",
      "08/01/2023  02:41 PM               657 LICENSE\n",
      "08/04/2023  12:32 PM    <DIR>          Other Notebooks\n",
      "08/04/2023  12:23 PM           256,844 poetry.lock\n",
      "08/04/2023  12:23 PM               427 pyproject.toml\n",
      "08/04/2023  12:19 PM                18 README.md\n",
      "08/04/2023  12:32 PM    <DIR>          TODO\n",
      "               5 File(s)        259,402 bytes\n",
      "               4 Dir(s)  1,625,454,329,856 bytes free\n"
     ]
    }
   ],
   "source": [
    "!{\"dir\"}"
   ]
  },
  {
   "cell_type": "code",
   "execution_count": 2,
   "metadata": {},
   "outputs": [
    {
     "name": "stdout",
     "output_type": "stream",
     "text": [
      " Volume in drive C has no label.\n",
      " Volume Serial Number is 2AC2-CC9F\n",
      "\n",
      " Directory of c:\\Code\\mrowrpurr\\Notebooks\n",
      "\n",
      "08/04/2023  12:37 PM    <DIR>          .\n",
      "08/04/2023  12:18 PM    <DIR>          ..\n",
      "08/04/2023  12:39 PM             1,456 Hello Shell Commands.ipynb\n",
      "08/01/2023  02:41 PM               657 LICENSE\n",
      "08/04/2023  12:32 PM    <DIR>          Other Notebooks\n",
      "08/04/2023  12:23 PM           256,844 poetry.lock\n",
      "08/04/2023  12:23 PM               427 pyproject.toml\n",
      "08/04/2023  12:19 PM                18 README.md\n",
      "08/04/2023  12:32 PM    <DIR>          TODO\n",
      "               5 File(s)        259,402 bytes\n",
      "               4 Dir(s)  1,625,454,329,856 bytes free\n",
      "\n"
     ]
    }
   ],
   "source": [
    "import subprocess\n",
    "result = subprocess.run([\"dir\"], shell=True, stdout=subprocess.PIPE)\n",
    "print(result.stdout.decode())"
   ]
  }
 ],
 "metadata": {
  "kernelspec": {
   "display_name": "notebooks-tOgwBZlw-py3.11",
   "language": "python",
   "name": "python3"
  },
  "language_info": {
   "codemirror_mode": {
    "name": "ipython",
    "version": 3
   },
   "file_extension": ".py",
   "mimetype": "text/x-python",
   "name": "python",
   "nbconvert_exporter": "python",
   "pygments_lexer": "ipython3",
   "version": "3.11.3"
  },
  "orig_nbformat": 4
 },
 "nbformat": 4,
 "nbformat_minor": 2
}

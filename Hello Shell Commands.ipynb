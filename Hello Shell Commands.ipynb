{
 "cells": [
  {
   "cell_type": "markdown",
   "metadata": {},
   "source": [
    "# Hello Shell Commands\n",
    "\n",
    "How can you run shell commands from a notebook?\n",
    "\n",
    "Below you'll find 2 cells, both of which run `dir` (on Mac/Linux, replace `dir` with `ls`)\n",
    "\n",
    "The first uses a Jupyter syntax for invoking shell commands: `!{\"command goes here\"}`\n",
    "\n",
    "The second uses the Python `subprocess` module.\n",
    "\n",
    "The benefit of the second example is that it allows you to store the output of the command in a string."
   ]
  },
  {
   "cell_type": "code",
   "execution_count": null,
   "metadata": {},
   "outputs": [],
   "source": [
    "!{\"dir\"}"
   ]
  },
  {
   "cell_type": "code",
   "execution_count": null,
   "metadata": {},
   "outputs": [],
   "source": [
    "import subprocess\n",
    "result = subprocess.run([\"dir\"], shell=True, stdout=subprocess.PIPE)\n",
    "print(result.stdout.decode())"
   ]
  }
 ],
 "metadata": {
  "kernelspec": {
   "display_name": "notebooks-tOgwBZlw-py3.11",
   "language": "python",
   "name": "python3"
  },
  "language_info": {
   "codemirror_mode": {
    "name": "ipython",
    "version": 3
   },
   "file_extension": ".py",
   "mimetype": "text/x-python",
   "name": "python",
   "nbconvert_exporter": "python",
   "pygments_lexer": "ipython3",
   "version": "3.11.3"
  },
  "orig_nbformat": 4
 },
 "nbformat": 4,
 "nbformat_minor": 2
}

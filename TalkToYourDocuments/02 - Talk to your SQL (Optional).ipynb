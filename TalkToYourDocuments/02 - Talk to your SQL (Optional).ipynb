{
 "cells": [
  {
   "cell_type": "markdown",
   "metadata": {},
   "source": [
    "# 🗣️ Talk to your Database 🗄️\n",
    "\n",
    "Before we look at talking to unstructured documents, let's look at a quick small example of how one might \"talk to\" structured data.\n",
    "\n",
    "The LangChain website has an example which demonstrates this:\n",
    "- https://python.langchain.com/docs/use_cases/tabular/sqlite\n",
    "\n",
    "We'll model this notebook after that example, using the classic \"Northwind\" database used by Microsoft to show database examples.\n",
    "\n",
    "> The SQLite3 port of the \"Northwind\" database which we'll be using is provided by this MIT licensed repository:\n",
    "> - https://github.com/jpwhite3/northwind-SQLite3\n",
    "\n",
    "Conveniently (_or inconveniently_) I cannot find the source code for the LangChain SQL example, so we will create it ourselves!"
   ]
  },
  {
   "cell_type": "markdown",
   "metadata": {},
   "source": [
    "## Providing the LLM with your Schema\n",
    "\n",
    "The cell below runs a script that, given a connection string to a database, will print and store the schema of that database as JSON.\n",
    "\n",
    "> Note: this notebook uses the `peewee` Python SQL ORM due to its simplicity _(very small amount of code required!)_\n",
    "> - https://docs.peewee-orm.com/en/latest/\n",
    "> \n",
    "> `peewee` supports: SQLite, MySQL, and PostgreSQL _(but the SQL in this example is specifically for SQLite)_\n",
    "> \n",
    "> _Note: We love SQLAlchemy as well, but it requires a bit more boilerplate code than `peewee`_\n",
    "\n"
   ]
  },
  {
   "cell_type": "code",
   "execution_count": null,
   "metadata": {},
   "outputs": [],
   "source": [
    "# Set this to any SQLite database connection string\n",
    "db_connection_string = \"sqlite:///northwind.sqlite3\"\n",
    "\n",
    "# If you plan on using MySQL or PostgreSQL, update these SQL statements below\n",
    "# to ones which are compatible with your database.\n",
    "SQL_get_all_table_names = \"SELECT name FROM sqlite_master WHERE type='table';\"\n",
    "SQL_get_table_info = \"PRAGMA table_info('{table_name}');\""
   ]
  },
  {
   "cell_type": "code",
   "execution_count": null,
   "metadata": {},
   "outputs": [],
   "source": [
    "import peewee\n",
    "from playhouse.db_url import connect as connect_to_database\n",
    "import json\n",
    "\n",
    "database: peewee.Database = connect_to_database(db_connection_string)\n",
    "\n",
    "database_schema = {}\n",
    "\n",
    "for table in database.execute_sql(SQL_get_all_table_names).fetchall():\n",
    "    table_name = table[0]\n",
    "    schema = database.execute_sql(SQL_get_table_info.format(table_name=table_name)).fetchall()\n",
    "    database_schema[table_name] = {column[1]: column[2] for column in schema}\n",
    "\n",
    "database_schema_json = json.dumps(database_schema)"
   ]
  },
  {
   "cell_type": "code",
   "execution_count": null,
   "metadata": {},
   "outputs": [],
   "source": [
    "# Print out the database schema\n",
    "print(json.dumps(database_schema, indent=4))"
   ]
  },
  {
   "cell_type": "code",
   "execution_count": 13,
   "metadata": {},
   "outputs": [
    {
     "name": "stdout",
     "output_type": "stream",
     "text": [
      "The JSON schema is approximately 666 tokens\n"
     ]
    }
   ],
   "source": [
    "# This cell prints out an approximate token count of the JSON\n",
    "# based on tokenizer of GPT 3.5\n",
    "import tiktoken\n",
    "print(f\"The JSON schema is approximately {len(tiktoken.encoding_for_model('gpt-3.5-turbo').encode(database_schema_json))} tokens\")"
   ]
  },
  {
   "cell_type": "markdown",
   "metadata": {},
   "source": [
    "## Asking the LLM for a SQL query\n",
    "\n",
    "Now that we have the..."
   ]
  }
 ],
 "metadata": {
  "kernelspec": {
   "display_name": "notebooks-tOgwBZlw-py3.11",
   "language": "python",
   "name": "python3"
  },
  "language_info": {
   "codemirror_mode": {
    "name": "ipython",
    "version": 3
   },
   "file_extension": ".py",
   "mimetype": "text/x-python",
   "name": "python",
   "nbconvert_exporter": "python",
   "pygments_lexer": "ipython3",
   "version": "3.11.4"
  },
  "orig_nbformat": 4
 },
 "nbformat": 4,
 "nbformat_minor": 2
}

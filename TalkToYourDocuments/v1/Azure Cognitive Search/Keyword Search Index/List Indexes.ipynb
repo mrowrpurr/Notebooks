{
 "cells": [
  {
   "cell_type": "code",
   "execution_count": null,
   "metadata": {},
   "outputs": [],
   "source": [
    "import dotenv\n",
    "dotenv.load_dotenv()"
   ]
  },
  {
   "cell_type": "code",
   "execution_count": null,
   "metadata": {},
   "outputs": [],
   "source": [
    "from azure.search.documents.indexes import SearchIndexClient\n",
    "from azure.core.credentials import AzureKeyCredential\n",
    "import os\n",
    "\n",
    "index_client = SearchIndexClient(\n",
    "    endpoint=f\"https://{os.environ['AZURE_COGNITIVE_SEARCH_SERVICE_NAME']}.search.windows.net\",\n",
    "    credential=AzureKeyCredential(os.environ[\"AZURE_COGNITIVE_SEARCH_ADMIN_KEY\"])\n",
    ")\n",
    "\n",
    "for index in index_client.list_indexes():\n",
    "    print(index.name)"
   ]
  }
 ],
 "metadata": {
  "kernelspec": {
   "display_name": "notebooks-tOgwBZlw-py3.11",
   "language": "python",
   "name": "python3"
  },
  "language_info": {
   "codemirror_mode": {
    "name": "ipython",
    "version": 3
   },
   "file_extension": ".py",
   "mimetype": "text/x-python",
   "name": "python",
   "nbconvert_exporter": "python",
   "pygments_lexer": "ipython3",
   "version": "3.11.4"
  },
  "orig_nbformat": 4
 },
 "nbformat": 4,
 "nbformat_minor": 2
}

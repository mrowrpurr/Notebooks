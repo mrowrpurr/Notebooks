{
 "cells": [
  {
   "cell_type": "code",
   "execution_count": null,
   "metadata": {},
   "outputs": [],
   "source": [
    "import dotenv\n",
    "dotenv.load_dotenv()"
   ]
  },
  {
   "cell_type": "code",
   "execution_count": null,
   "metadata": {},
   "outputs": [],
   "source": [
    "import base64\n",
    "\n",
    "# Python port of .NET's HttpServerUtility.UrlTokenDecode\n",
    "# for decoding the storage path from the metadata (which is encoded in base64url)\n",
    "def url_token_decode(encoded_string: str) -> bytes:\n",
    "    # Get the padding count from the last character of the encoded string\n",
    "    padding_count = ord(encoded_string[-1]) - ord(\"0\")\n",
    "    \n",
    "    # Remove the last character (which indicates padding)\n",
    "    encoded_string = encoded_string[:-1]\n",
    "    \n",
    "    # Replace - and _ to revert to standard base64\n",
    "    encoded_string = encoded_string.replace(\"-\", \"+\").replace(\"_\", \"/\")\n",
    "    \n",
    "    # Add back the removed padding\n",
    "    encoded_string += \"=\" * padding_count\n",
    "    \n",
    "    # Base64 decode\n",
    "    return base64.b64decode(encoded_string).decode(\"utf-8\")\n",
    "\n"
   ]
  },
  {
   "cell_type": "code",
   "execution_count": null,
   "metadata": {},
   "outputs": [],
   "source": [
    "query = input(\"Enter a query for Cognitive Search\")"
   ]
  },
  {
   "cell_type": "code",
   "execution_count": null,
   "metadata": {},
   "outputs": [],
   "source": [
    "from langchain.retrievers import AzureCognitiveSearchRetriever\n",
    "\n",
    "retriever = AzureCognitiveSearchRetriever(top_k=10)\n",
    "documents = retriever.get_relevant_documents(query)"
   ]
  },
  {
   "cell_type": "code",
   "execution_count": null,
   "metadata": {},
   "outputs": [],
   "source": [
    "print(f\"Found {len(documents)} results\")\n",
    "\n",
    "for document in documents:\n",
    "    storage_path = url_token_decode(document.metadata[\"metadata_storage_path\"]).strip()\n",
    "    search_score = document.metadata[\"@search.score\"]\n",
    "    content_length = len(document.page_content)\n",
    "    print(f\"Search score: {search_score} Document: {storage_path} (content length: {content_length})\")\n"
   ]
  }
 ],
 "metadata": {
  "kernelspec": {
   "display_name": "notebooks-tOgwBZlw-py3.11",
   "language": "python",
   "name": "python3"
  },
  "language_info": {
   "codemirror_mode": {
    "name": "ipython",
    "version": 3
   },
   "file_extension": ".py",
   "mimetype": "text/x-python",
   "name": "python",
   "nbconvert_exporter": "python",
   "pygments_lexer": "ipython3",
   "version": "3.11.4"
  },
  "orig_nbformat": 4
 },
 "nbformat": 4,
 "nbformat_minor": 2
}

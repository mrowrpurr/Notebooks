{
 "cells": [
  {
   "cell_type": "code",
   "execution_count": null,
   "metadata": {},
   "outputs": [],
   "source": [
    "# DO NOT RUN THIS - I got blocked from AZLyrics. Lol fail.\n",
    "\n",
    "# # Song Lyrics\n",
    "# # https://www.azlyrics.com/lyrics/ARTIST/SONG.html\n",
    "\n",
    "# # Ugh. AZLyrics blocks your IP. Try a different example for documents...\n",
    "\n",
    "# from langchain.document_loaders import AZLyricsLoader\n",
    "# from langchain.schema import Document\n",
    "\n",
    "# artist = \"Taylor Swift\"\n",
    "\n",
    "# # Album: 1989\n",
    "# songs = [\n",
    "#     \"Welcome to New York\",\n",
    "#     \"Blank Space\",\n",
    "#     \"Style\",\n",
    "#     \"Out of the Woods\",\n",
    "#     \"All You Had to Do Was Stay\",\n",
    "#     \"Shake It Off\",\n",
    "#     \"I Wish You Would\",\n",
    "#     \"Bad Blood\",\n",
    "#     \"Wildest Dreams\",\n",
    "#     \"How You Get The Girl\",\n",
    "#     \"This Love\",\n",
    "#     \"I Know Places\",\n",
    "#     \"Clean\"\n",
    "# ]\n",
    "\n",
    "# documents: list[Document] = []\n",
    "\n",
    "# for song in songs:\n",
    "#     artist_name = artist.lower().replace(\" \", \"\")\n",
    "#     song_name = song.lower().replace(\" \", \"\")\n",
    "#     azlyrics_url = f\"https://www.azlyrics.com/lyrics/{artist_name}/{song_name}.html\"\n",
    "#     print(f\"Loading {azlyrics_url}\")\n",
    "#     documents.extend(AZLyricsLoader(azlyrics_url).load())"
   ]
  },
  {
   "cell_type": "code",
   "execution_count": null,
   "metadata": {},
   "outputs": [],
   "source": [
    "# If you want to store the documents object\n",
    "%store documents"
   ]
  }
 ],
 "metadata": {
  "kernelspec": {
   "display_name": "notebooks-tOgwBZlw-py3.11",
   "language": "python",
   "name": "python3"
  },
  "language_info": {
   "codemirror_mode": {
    "name": "ipython",
    "version": 3
   },
   "file_extension": ".py",
   "mimetype": "text/x-python",
   "name": "python",
   "nbconvert_exporter": "python",
   "pygments_lexer": "ipython3",
   "version": "3.11.4"
  },
  "orig_nbformat": 4
 },
 "nbformat": 4,
 "nbformat_minor": 2
}

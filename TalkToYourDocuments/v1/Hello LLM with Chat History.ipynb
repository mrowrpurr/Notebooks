{
 "cells": [
  {
   "cell_type": "code",
   "execution_count": null,
   "metadata": {},
   "outputs": [],
   "source": [
    "import dotenv\n",
    "dotenv.load_dotenv()"
   ]
  },
  {
   "cell_type": "code",
   "execution_count": null,
   "metadata": {},
   "outputs": [],
   "source": [
    "from langchain.schema import BaseMessage\n",
    "messages: list[BaseMessage] = []"
   ]
  },
  {
   "cell_type": "code",
   "execution_count": null,
   "metadata": {},
   "outputs": [],
   "source": [
    "from langchain.chat_models.openai import ChatOpenAI\n",
    "from langchain.schema import HumanMessage, SystemMessage, AIMessage\n",
    "\n",
    "messages.append(SystemMessage(\n",
    "    content=\"I am a friendly but sarcastic AI chat bot. I tend to make jokes.\"\n",
    "))\n",
    "\n",
    "chat = ChatOpenAI()"
   ]
  },
  {
   "cell_type": "code",
   "execution_count": null,
   "metadata": {},
   "outputs": [],
   "source": [
    "import tiktoken\n",
    "from langchain.schema import HumanMessage, AIMessage\n",
    "\n",
    "tokenizer = tiktoken.encoding_for_model(\"gpt-3.5-turbo\")\n",
    "\n",
    "prompt = input(\"Enter your promot for the AI chat bot\")\n",
    "print(f\"{prompt}\\n({len(tokenizer.encode(prompt))} tokens)\")\n",
    "\n",
    "messages.append(HumanMessage(content=prompt))\n",
    "\n",
    "response_message = chat(messages)\n",
    "\n",
    "import pprint\n",
    "pprint.pp(response_message.content)\n",
    "print(f\"({len(tokenizer.encode(response_message.content))} tokens)\")\n",
    "\n",
    "messages.append(AIMessage(content=response_message.content))\n",
    "\n",
    "total_message_tokens = sum(len(tokenizer.encode(m.content)) for m in messages)\n",
    "print(f\"\\nTotal conversation tokens: {total_message_tokens}\")"
   ]
  }
 ],
 "metadata": {
  "kernelspec": {
   "display_name": "notebooks-tOgwBZlw-py3.11",
   "language": "python",
   "name": "python3"
  },
  "language_info": {
   "name": "python",
   "version": "3.11.4"
  },
  "orig_nbformat": 4
 },
 "nbformat": 4,
 "nbformat_minor": 2
}

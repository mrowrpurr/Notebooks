{
 "cells": [
  {
   "cell_type": "code",
   "execution_count": null,
   "metadata": {},
   "outputs": [],
   "source": [
    "from transformers import AutoTokenizer, AutoModelForCausalLM\n",
    "tokenizer = AutoTokenizer.from_pretrained(\"ikala/redpajama-3b-chat\")\n",
    "model = AutoModelForCausalLM.from_pretrained(\"ikala/redpajama-3b-chat\")"
   ]
  },
  {
   "cell_type": "code",
   "execution_count": null,
   "metadata": {},
   "outputs": [],
   "source": [
    "from transformers import pipeline\n",
    "\n",
    "pipe = pipeline(\n",
    "    'text-generation',\n",
    "    model=model,\n",
    "    tokenizer=tokenizer,\n",
    "    device=\"cuda:0\", # If you're using Nvidia\n",
    "    max_length=2048,\n",
    ")"
   ]
  },
  {
   "cell_type": "code",
   "execution_count": null,
   "metadata": {},
   "outputs": [],
   "source": [
    "prompt = input(\"Enter a prompt:\")\n",
    "\n",
    "prompt_token_count = len(tokenizer.encode(prompt))\n",
    "print(f\"Prompt tokens: {prompt_token_count}\")\n",
    "\n",
    "result = pipe(f\"<|prompter|>{prompt}<|endoftext|><|assistant|>\")\n",
    "result_message = result[0][\"generated_text\"]\n",
    "\n",
    "import re\n",
    "import pprint\n",
    "pprint.pp(re.sub(r'^.*<\\|assistant\\|>', \"\", result_message))"
   ]
  }
 ],
 "metadata": {
  "kernelspec": {
   "display_name": "notebooks-tOgwBZlw-py3.11",
   "language": "python",
   "name": "python3"
  },
  "language_info": {
   "codemirror_mode": {
    "name": "ipython",
    "version": 3
   },
   "file_extension": ".py",
   "mimetype": "text/x-python",
   "name": "python",
   "nbconvert_exporter": "python",
   "pygments_lexer": "ipython3",
   "version": "3.11.4"
  },
  "orig_nbformat": 4
 },
 "nbformat": 4,
 "nbformat_minor": 2
}
